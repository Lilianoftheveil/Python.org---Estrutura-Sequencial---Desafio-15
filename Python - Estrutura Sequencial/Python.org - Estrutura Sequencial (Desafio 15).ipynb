{
 "cells": [
  {
   "cell_type": "code",
   "execution_count": null,
   "id": "f704985c",
   "metadata": {},
   "outputs": [],
   "source": [
    "Python - Lista de Exercícios (Estrutura Sequencial) \n",
    "link: https://wiki.python.org.br/EstruturaSequencial"
   ]
  },
  {
   "cell_type": "markdown",
   "id": "f36f0365",
   "metadata": {},
   "source": [
    "15) Faça um Programa que pergunte quanto você ganha por hora e o número de horas trabalhadas no mês. Calcule e mostre o total do seu salário no referido mês, sabendo-se que são descontados 11% para o Imposto de Renda, 8% para o INSS e 5% para o sindicato, faça um programa que nos dê: a) salário bruto. b) quanto pagou ao INSS. c) quanto pagou ao sindicato. d) o salário líquido."
   ]
  },
  {
   "cell_type": "code",
   "execution_count": null,
   "id": "291025e7",
   "metadata": {},
   "outputs": [],
   "source": [
    "Obs.: Visando desenvolver o programa de forma mais dinâmica e menos suscetível a erros, adicionei \n",
    "outras estruturas no corpo do código. De modo que apenas números, maiores do que zero, sejam aceitos\n",
    "durante sua execução."
   ]
  },
  {
   "cell_type": "code",
   "execution_count": null,
   "id": "eb6d47b6",
   "metadata": {},
   "outputs": [],
   "source": [
    "while True:\n",
    "  x = input(\"Quanto você ganha por hora? \")\n",
    "  y = input(\"Número de horas trabalhadas no mês? \")\n",
    "  try:\n",
    "    float(x), (y)\n",
    "    if float(x) < 0 or float(y) < 0:\n",
    "      print(\"Por favor, digite apenas números positivos.\")\n",
    "      continue\n",
    "    else:\n",
    "      a = float(x) * float(y)\n",
    "      b = round((8 * a) / 100, 2)\n",
    "      c = round((5 * a) / 100, 2)\n",
    "      d = round((11 * a) / 100, 2)\n",
    "      e = round(a - b - c - d, 2) \n",
    "      print(f\"a) Salário Bruto: {a} R$.\")\n",
    "      print(f\"b) INSS (8%): {b} R$.\")\n",
    "      print(f\"c) Sindicato (5%): {c} R$.\")\n",
    "      print(f\"d) Salário Líquido: {e} R$.\")\n",
    "      break\n",
    "  except:\n",
    "    print(\"Por favor, digite apenas números.\")\n",
    "    continue"
   ]
  }
 ],
 "metadata": {
  "kernelspec": {
   "display_name": "Python 3 (ipykernel)",
   "language": "python",
   "name": "python3"
  },
  "language_info": {
   "codemirror_mode": {
    "name": "ipython",
    "version": 3
   },
   "file_extension": ".py",
   "mimetype": "text/x-python",
   "name": "python",
   "nbconvert_exporter": "python",
   "pygments_lexer": "ipython3",
   "version": "3.8.10"
  }
 },
 "nbformat": 4,
 "nbformat_minor": 5
}
